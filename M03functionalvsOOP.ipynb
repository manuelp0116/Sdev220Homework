{
 "cells": [
  {
   "cell_type": "code",
   "execution_count": 6,
   "id": "b5c9aa98",
   "metadata": {},
   "outputs": [
    {
     "data": {
      "text/plain": [
       "<__main__.things at 0x7fec51d6ace0>"
      ]
     },
     "execution_count": 6,
     "metadata": {},
     "output_type": "execute_result"
    }
   ],
   "source": [
    "#10.1#\n",
    "\n",
    "class things:\n",
    "    pass\n",
    "example = things()\n",
    "example"
   ]
  },
  {
   "cell_type": "code",
   "execution_count": 4,
   "id": "8177b349",
   "metadata": {},
   "outputs": [
    {
     "name": "stdout",
     "output_type": "stream",
     "text": [
      "hydrogen\n"
     ]
    }
   ],
   "source": [
    "#10.4#\n",
    "\n",
    "class element:\n",
    "    def __init__(self, name, symbol, number):\n",
    "        self.name = name\n",
    "        self.symbol = symbol\n",
    "        self.number = number\n",
    "    pass\n",
    "#creating an object of the element class\n",
    "\n",
    "hydrogen = element(\"Hydrogen\", \"H\", 1)\n",
    "\n"
   ]
  },
  {
   "cell_type": "code",
   "execution_count": 7,
   "id": "f5e9dafb",
   "metadata": {},
   "outputs": [
    {
     "name": "stdout",
     "output_type": "stream",
     "text": [
      "Hydroen\n"
     ]
    }
   ],
   "source": [
    "#10.5#\n",
    "#its still using the class from last cell, we change the hydrogen element, to take the dictionary as value\n",
    "\n",
    "hydrogenDict = {\"name\": \"Hydrogen\", \"symbol\": \"H\", \"number\": 1 }\n",
    "\n",
    "\n",
    "hydrogen = element(**hydrogenDict)\n"
   ]
  },
  {
   "cell_type": "code",
   "execution_count": 12,
   "id": "18d486ef",
   "metadata": {},
   "outputs": [
    {
     "name": "stdout",
     "output_type": "stream",
     "text": [
      "berries\n"
     ]
    }
   ],
   "source": [
    "#10.9#\n",
    "\n",
    "\n",
    "class bear:\n",
    "    def eats(self):\n",
    "        return \"berries\"\n",
    "\n",
    "class rabbit:\n",
    "    def eats(self):\n",
    "        return \"clover\"\n",
    "\n",
    "class octothorpe:\n",
    "     def eats(self):\n",
    "        return \"campers\"\n",
    "    \n",
    "Bear= bear()\n",
    "\n",
    "Rabbit = rabbit()\n",
    "\n",
    "octothorpe = octothorpe()\n",
    "\n",
    "print(Bear.eats())"
   ]
  },
  {
   "cell_type": "code",
   "execution_count": null,
   "id": "804cda4c",
   "metadata": {},
   "outputs": [],
   "source": []
  }
 ],
 "metadata": {
  "kernelspec": {
   "display_name": "Python 3 (ipykernel)",
   "language": "python",
   "name": "python3"
  },
  "language_info": {
   "codemirror_mode": {
    "name": "ipython",
    "version": 3
   },
   "file_extension": ".py",
   "mimetype": "text/x-python",
   "name": "python",
   "nbconvert_exporter": "python",
   "pygments_lexer": "ipython3",
   "version": "3.10.9"
  }
 },
 "nbformat": 4,
 "nbformat_minor": 5
}
