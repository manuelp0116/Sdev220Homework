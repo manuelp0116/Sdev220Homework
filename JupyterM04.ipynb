{
 "cells": [
  {
   "cell_type": "code",
   "execution_count": 2,
   "id": "4f58121f",
   "metadata": {
    "scrolled": true
   },
   "outputs": [
    {
     "name": "stdout",
     "output_type": "stream",
     "text": [
      "Overwriting zoo.py\n"
     ]
    }
   ],
   "source": [
    "%%writefile zoo.py\n",
    "'''\n",
    "11.1 \n",
    "I used the writefile comand of jupyterr to keep the homework in just one single file,\n",
    "I had some trouble making it work, \n",
    "'''\n",
    "def hours(): #function, this wil lbe imported to the next cell to get printed there.\n",
    "    print(\"Open 9-5 daily\")"
   ]
  },
  {
   "cell_type": "code",
   "execution_count": 5,
   "id": "4222b772",
   "metadata": {},
   "outputs": [
    {
     "name": "stdout",
     "output_type": "stream",
     "text": [
      "Open 9-5 daily\n"
     ]
    }
   ],
   "source": [
    "import zoo\n",
    "\n",
    "zoo.hours()"
   ]
  },
  {
   "cell_type": "code",
   "execution_count": 6,
   "id": "057aec0d",
   "metadata": {
    "scrolled": true
   },
   "outputs": [
    {
     "name": "stdout",
     "output_type": "stream",
     "text": [
      "Open 9-5 daily\n"
     ]
    }
   ],
   "source": [
    "'''\n",
    "11.2\n",
    "'''\n",
    "from zoo import hours\n",
    "hours()"
   ]
  },
  {
   "cell_type": "code",
   "execution_count": 13,
   "id": "be310b47",
   "metadata": {},
   "outputs": [
    {
     "name": "stdout",
     "output_type": "stream",
     "text": [
      "Overwriting books2.csv\n"
     ]
    }
   ],
   "source": [
    "%%writefile books2.csv\n",
    "\n",
    "title,author,year\n",
    "The Weirdstone of Brisingamen,Alan Garner,1960\n",
    "Perdido Street Station,China Miéville,2000\n",
    "Thud!,Terry Pratchett,2005\n",
    "The Spellman Files,Lisa Lutz,2007\n",
    "Small Gods,Terry Pratchett,1992"
   ]
  },
  {
   "cell_type": "code",
   "execution_count": 2,
   "id": "4171db73",
   "metadata": {},
   "outputs": [
    {
     "ename": "OperationalError",
     "evalue": "table books already exists",
     "output_type": "error",
     "traceback": [
      "\u001b[0;31m---------------------------------------------------------------------------\u001b[0m",
      "\u001b[0;31mOperationalError\u001b[0m                          Traceback (most recent call last)",
      "Cell \u001b[0;32mIn[2], line 15\u001b[0m\n\u001b[1;32m     12\u001b[0m curs \u001b[38;5;241m=\u001b[39m conn\u001b[38;5;241m.\u001b[39mcursor()\n\u001b[1;32m     14\u001b[0m \u001b[38;5;66;03m#table definition, and cration of the table \u001b[39;00m\n\u001b[0;32m---> 15\u001b[0m \u001b[43mcurs\u001b[49m\u001b[38;5;241;43m.\u001b[39;49m\u001b[43mexecute\u001b[49m\u001b[43m(\u001b[49m\u001b[38;5;124;43m'''\u001b[39;49m\u001b[38;5;124;43mCREATE TABLE books (title VARCHAR(150) PRIMARY KEY, \u001b[39;49m\n\u001b[1;32m     16\u001b[0m \u001b[38;5;124;43mauthor VARCHAR(80), year INT)\u001b[39;49m\u001b[38;5;124;43m'''\u001b[39;49m\u001b[43m)\u001b[49m\n",
      "\u001b[0;31mOperationalError\u001b[0m: table books already exists"
     ]
    }
   ],
   "source": [
    "'''\n",
    "16.4\n",
    "creation of database in sqlite3\n",
    "'''\n",
    "\n",
    "import sqlite3\n",
    "\n",
    "#create batabase for books\n",
    "conn = sqlite3.connect('books.db')\n",
    "\n",
    "#cursor object, executes sql queries\n",
    "curs = conn.cursor()\n",
    "\n",
    "#table definition, and cration of the table \n",
    "curs.execute('''CREATE TABLE books (title VARCHAR(150) PRIMARY KEY, \n",
    "author VARCHAR(80), year INT)''')"
   ]
  },
  {
   "cell_type": "code",
   "execution_count": 19,
   "id": "3cf5db12",
   "metadata": {},
   "outputs": [
    {
     "data": {
      "text/plain": [
       "5"
      ]
     },
     "execution_count": 19,
     "metadata": {},
     "output_type": "execute_result"
    }
   ],
   "source": [
    "'''\n",
    "16.5\n",
    "'''\n",
    "\n",
    "import pandas\n",
    "import sqlite3\n",
    "\n",
    "#connect to data base\n",
    "conn = sqlite3.connect('books.db')\n",
    "\n",
    "#create cursor for the SQL queries\n",
    "curs = conn.cursor()\n",
    "\n",
    "#Read books.csv\n",
    "file = pandas.read_csv('books2.csv')\n",
    "\n",
    "#write data to database\n",
    "file.to_sql('books', conn, if_exists='append', index = False)\n",
    "\n",
    "\n",
    "\n"
   ]
  },
  {
   "cell_type": "code",
   "execution_count": null,
   "id": "3f213d7c",
   "metadata": {},
   "outputs": [],
   "source": [
    "\n",
    "\n",
    "\n"
   ]
  }
 ],
 "metadata": {
  "kernelspec": {
   "display_name": "Python 3 (ipykernel)",
   "language": "python",
   "name": "python3"
  },
  "language_info": {
   "codemirror_mode": {
    "name": "ipython",
    "version": 3
   },
   "file_extension": ".py",
   "mimetype": "text/x-python",
   "name": "python",
   "nbconvert_exporter": "python",
   "pygments_lexer": "ipython3",
   "version": "3.10.9"
  }
 },
 "nbformat": 4,
 "nbformat_minor": 5
}
