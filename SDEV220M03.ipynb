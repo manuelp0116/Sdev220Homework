{
 "cells": [
  {
   "cell_type": "code",
   "execution_count": 30,
   "id": "92a8d6dc",
   "metadata": {},
   "outputs": [],
   "source": [
    "#7.4#\n",
    "\n",
    "things = [\"mozzarella\", \"cinderella\", \"salmonella\"]"
   ]
  },
  {
   "cell_type": "code",
   "execution_count": 31,
   "id": "0b0268a6",
   "metadata": {},
   "outputs": [
    {
     "name": "stdout",
     "output_type": "stream",
     "text": [
      "['mozzarella', 'cinderella', 'salmonella']\n"
     ]
    }
   ],
   "source": [
    "#7.5#\n",
    "\n",
    "for i in things:\n",
    "    if i == \"cinderella\":\n",
    "        i.capitalize # It doesn't update the list\n",
    "        break\n",
    "print(things)\n",
    "\n",
    "'''\n",
    "I tried just capitalizing cinderella, and it doesnt update the list, I guess you could also pop,\n",
    "and append the new value to update the list\n",
    "'''\n",
    "        "
   ]
  },
  {
   "cell_type": "code",
   "execution_count": 32,
   "id": "6ab7177f",
   "metadata": {},
   "outputs": [
    {
     "name": "stdout",
     "output_type": "stream",
     "text": [
      "['cinderella', 'salmonella', 'MOZZARELLA']\n"
     ]
    }
   ],
   "source": [
    "#7.6#\n",
    "\n",
    "for i in things:\n",
    "    if i == \"mozzarella\":\n",
    "        newItem = i.upper() # It doesn't update the list\n",
    "        things.remove(\"mozzarella\")\n",
    "        things.append(newItem)\n",
    "        break\n",
    "print(things)\n",
    "\n",
    "'''\n",
    "reuse the loop from 7.5 and added the remove and append to update list\n",
    "'''\n"
   ]
  },
  {
   "cell_type": "code",
   "execution_count": 33,
   "id": "423f6332",
   "metadata": {},
   "outputs": [
    {
     "name": "stdout",
     "output_type": "stream",
     "text": [
      "['cinderella', 'MOZZARELLA']\n"
     ]
    }
   ],
   "source": [
    "#7.7#\n",
    "\n",
    "things.remove(\"salmonella\")\n",
    "print(things)"
   ]
  },
  {
   "cell_type": "code",
   "execution_count": 37,
   "id": "21e2028a",
   "metadata": {},
   "outputs": [
    {
     "name": "stdout",
     "output_type": "stream",
     "text": [
      "['Harry', 'Ron', 'Hermione']\n"
     ]
    }
   ],
   "source": [
    "#9.1#\n",
    "\n",
    "def good():\n",
    "    HPcharacters = ['Harry', 'Ron', 'Hermione']\n",
    "    print (HPcharacters)\n",
    "    \n",
    "good()"
   ]
  },
  {
   "cell_type": "code",
   "execution_count": 47,
   "id": "24c5c2e3",
   "metadata": {},
   "outputs": [
    {
     "name": "stdout",
     "output_type": "stream",
     "text": [
      "1\n",
      "3\n",
      "5\n",
      "7\n",
      "9\n"
     ]
    }
   ],
   "source": [
    "#9.2#\n",
    "\n",
    "def getOdds():\n",
    "    return (num for num in range(10) if num % 2 != 0)\n",
    "\n",
    "for n in getOdds():\n",
    "    print(n)"
   ]
  }
 ],
 "metadata": {
  "kernelspec": {
   "display_name": "Python 3 (ipykernel)",
   "language": "python",
   "name": "python3"
  },
  "language_info": {
   "codemirror_mode": {
    "name": "ipython",
    "version": 3
   },
   "file_extension": ".py",
   "mimetype": "text/x-python",
   "name": "python",
   "nbconvert_exporter": "python",
   "pygments_lexer": "ipython3",
   "version": "3.10.9"
  }
 },
 "nbformat": 4,
 "nbformat_minor": 5
}
