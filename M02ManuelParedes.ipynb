{
 "cells": [
  {
   "cell_type": "code",
   "execution_count": 5,
   "id": "e398a2e7",
   "metadata": {},
   "outputs": [
    {
     "name": "stdout",
     "output_type": "stream",
     "text": [
      "just right\n"
     ]
    }
   ],
   "source": [
    "'''\n",
    "4.1\n",
    "'''\n",
    "\n",
    "secret = 6\n",
    "guess = 6\n",
    "if guess < secret:\n",
    "    print(\"too low\")\n",
    "elif guess > secret:\n",
    "    print(\"too high\")\n",
    "else:\n",
    "    print(\"just right\")"
   ]
  },
  {
   "cell_type": "code",
   "execution_count": 11,
   "id": "c91b747f",
   "metadata": {},
   "outputs": [
    {
     "name": "stdout",
     "output_type": "stream",
     "text": [
      "pumpkin\n"
     ]
    }
   ],
   "source": [
    "'''\n",
    "4.2\n",
    "'''\n",
    "\n",
    "small = False \n",
    "green = False\n",
    "\n",
    "if small == True:\n",
    "    if green == True:\n",
    "        print(\"pea\")\n",
    "    else:#small= true, green = false\n",
    "        print(\"cherry\")\n",
    "else:\n",
    "    if green == False: #if small = false, and green = false\n",
    "        print(\"pumpkin\")\n",
    "    else: # small = false, green = true\n",
    "        print(\"watermelon\")\n",
    "        "
   ]
  },
  {
   "cell_type": "code",
   "execution_count": 14,
   "id": "0bcb025e",
   "metadata": {},
   "outputs": [
    {
     "name": "stdout",
     "output_type": "stream",
     "text": [
      "3\n",
      "2\n",
      "1\n",
      "0\n"
     ]
    }
   ],
   "source": [
    "'''\n",
    "6.1\n",
    "'''\n",
    "\n",
    "numList = [3,2,1,0]\n",
    "\n",
    "for i in numList:\n",
    "    print(i)"
   ]
  },
  {
   "cell_type": "code",
   "execution_count": 18,
   "id": "d8a160f7",
   "metadata": {},
   "outputs": [
    {
     "name": "stdout",
     "output_type": "stream",
     "text": [
      "too low\n",
      "too low\n",
      "too low\n",
      "found it!\n"
     ]
    }
   ],
   "source": [
    "'''\n",
    "6.2\n",
    "'''\n",
    "\n",
    "guess_me = 7\n",
    "number = 4\n",
    "\n",
    "while number != guess_me:\n",
    "    if number < guess_me: \n",
    "        print(\"too low\")\n",
    "        number += 1\n",
    "    elif number > guess_me:\n",
    "        print(\"oops\")\n",
    "        break\n",
    "print (\"found it!\")\n",
    "        "
   ]
  },
  {
   "cell_type": "code",
   "execution_count": 26,
   "id": "5629f57c",
   "metadata": {},
   "outputs": [
    {
     "name": "stdout",
     "output_type": "stream",
     "text": [
      "0 is too low\n",
      "1 is too low\n",
      "2 is too low\n",
      "3 is too low\n",
      "4 is too low\n",
      "5 found it!\n"
     ]
    }
   ],
   "source": [
    "'''\n",
    "6.3\n",
    "'''\n",
    "\n",
    "guess_me = 5\n",
    "\n",
    "for number in range(10): # numbers going from 0 to 10\n",
    "    if number < guess_me: # if number is less than guess, it will print too low \n",
    "        print(str(number) + \" is too low\")\n",
    "    elif number == guess_me:\n",
    "        print (str(number) + \" found it!\")\n",
    "        break\n",
    "    else: # breaks loop if number goes over guess\n",
    "        print(\"oops\")\n",
    "        break\n",
    "            \n"
   ]
  },
  {
   "cell_type": "code",
   "execution_count": null,
   "id": "4597aaec",
   "metadata": {},
   "outputs": [],
   "source": []
  }
 ],
 "metadata": {
  "kernelspec": {
   "display_name": "Python 3 (ipykernel)",
   "language": "python",
   "name": "python3"
  },
  "language_info": {
   "codemirror_mode": {
    "name": "ipython",
    "version": 3
   },
   "file_extension": ".py",
   "mimetype": "text/x-python",
   "name": "python",
   "nbconvert_exporter": "python",
   "pygments_lexer": "ipython3",
   "version": "3.10.9"
  }
 },
 "nbformat": 4,
 "nbformat_minor": 5
}
