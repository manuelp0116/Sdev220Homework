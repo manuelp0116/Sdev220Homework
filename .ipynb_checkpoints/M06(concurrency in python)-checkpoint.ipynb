{
 "cells": [
  {
   "cell_type": "code",
   "execution_count": 1,
   "id": "4b249f5e",
   "metadata": {},
   "outputs": [],
   "source": [
    "'''\n",
    "13.1\n",
    "'''\n",
    "\n",
    "import datetime\n",
    "\n",
    "todayDate= str(datetime.date.today())\n",
    "with open('today.txt', 'w') as today:\n",
    "    today.write(todayDate)\n",
    "    today.close()\n",
    "\n"
   ]
  },
  {
   "cell_type": "code",
   "execution_count": 2,
   "id": "3ff5a364",
   "metadata": {},
   "outputs": [
    {
     "name": "stdout",
     "output_type": "stream",
     "text": [
      "['2023-05-11']\n"
     ]
    }
   ],
   "source": [
    "'''\n",
    "13.2\n",
    "'''\n",
    "with open('today.txt', 'r')  as today:\n",
    "    today_string = str(today.readlines())\n",
    "\n",
    "    print (today_string)"
   ]
  },
  {
   "cell_type": "code",
   "execution_count": 17,
   "id": "92212cb6",
   "metadata": {},
   "outputs": [
    {
     "name": "stdout",
     "output_type": "stream",
     "text": [
      "['2023\n",
      "05\n",
      "11']\n"
     ]
    }
   ],
   "source": [
    "'''\n",
    "13.3\n",
    "\n",
    "I tried removing the braces from the text file, not sue what its ghoing on \n",
    "'''\n",
    "\n",
    "today_string \n",
    "\n",
    "txtparce = today_string.split('-')\n",
    "\n",
    "for i in txtparce:\n",
    "    timeList = (i)\n",
    "    print(timeList)"
   ]
  },
  {
   "cell_type": "code",
   "execution_count": 12,
   "id": "0bc8c859",
   "metadata": {},
   "outputs": [
    {
     "name": "stdout",
     "output_type": "stream",
     "text": [
      "Today's date and time is 2023-05-11 19:58:55.957748\n",
      "Today's date and time is 2023-05-11 19:58:56.451494\n",
      "Today's date and time is 2023-05-11 19:58:56.551072\n"
     ]
    }
   ],
   "source": [
    "'''\n",
    "15.1\n",
    "\n",
    "this script run well on a my regular IDE, and I cant figure out why does nto work here on jupyter\n",
    "'''\n",
    "\n",
    "import multiprocessing\n",
    "\n",
    "from datetime import datetime\n",
    "\n",
    "import time\n",
    "\n",
    "import random\n",
    "\n",
    "def process(): # process func will be passed on the different processes \n",
    "    cur = datetime.now()\n",
    "    print(\"Today's date and time is {}\".format(cur)) #prints and formats date \n",
    "    time.sleep(random.random()) #random tiem between 1 and 0 to start next process\n",
    "\n",
    "if __name__ == '__main__':\n",
    "    proc1 = multiprocessing.Process(target=process()) # processing task list \n",
    "    proc2 = multiprocessing.Process(target=process())\n",
    "    proc3 = multiprocessing.Process(target=process())\n",
    "    proc1.start()\n",
    "    proc2.start()\n",
    "    proc3.start()\n",
    "    proc1.join()\n",
    "    proc2.join()\n",
    "    proc3.join()\n"
   ]
  },
  {
   "cell_type": "code",
   "execution_count": null,
   "id": "fcc38043",
   "metadata": {},
   "outputs": [],
   "source": []
  }
 ],
 "metadata": {
  "kernelspec": {
   "display_name": "Python 3 (ipykernel)",
   "language": "python",
   "name": "python3"
  },
  "language_info": {
   "codemirror_mode": {
    "name": "ipython",
    "version": 3
   },
   "file_extension": ".py",
   "mimetype": "text/x-python",
   "name": "python",
   "nbconvert_exporter": "python",
   "pygments_lexer": "ipython3",
   "version": "3.10.9"
  }
 },
 "nbformat": 4,
 "nbformat_minor": 5
}
